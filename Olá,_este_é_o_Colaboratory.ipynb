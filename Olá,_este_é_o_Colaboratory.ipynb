{
  "cells": [
    {
      "cell_type": "markdown",
      "metadata": {
        "id": "view-in-github",
        "colab_type": "text"
      },
      "source": [
        "<a href=\"https://colab.research.google.com/github/lyl-rich/o-o/blob/main/Ol%C3%A1%2C_este_%C3%A9_o_Colaboratory.ipynb\" target=\"_parent\"><img src=\"https://colab.research.google.com/assets/colab-badge.svg\" alt=\"Open In Colab\"/></a>"
      ]
    },
    {
      "cell_type": "code",
      "source": [],
      "metadata": {
        "id": "sG1b_MCTgQJv"
      },
      "execution_count": null,
      "outputs": []
    },
    {
      "cell_type": "code",
      "source": [
        "mb = \"\"\n",
        "pm = float(\"inf\")\n",
        "sp = 0\n",
        "for x in range(5):\n",
        "  medicamento = input(f\"Digite o nome do medicamento: \")\n",
        "  preco = float(input(f\"Digite o preço: \"))\n",
        "\n",
        "  if preco < pm:\n",
        "    pm = preco\n",
        "    mb = medicamento\n",
        "\n",
        "  sp += preco\n",
        "media = sp/5\n",
        "\n",
        "print(f\"\"\"\n",
        "O nome do medicamento mais barato é: {mb}\n",
        "O preço é {pm}\n",
        "5A média aritmética é: {media}\"\"\")\n"
      ],
      "metadata": {
        "id": "WCFwy76mEGLw",
        "outputId": "256d3611-6dbc-4674-ecc4-9d7a192d648a",
        "colab": {
          "base_uri": "https://localhost:8080/"
        }
      },
      "execution_count": 8,
      "outputs": [
        {
          "output_type": "stream",
          "name": "stdout",
          "text": [
            "Digite o nome do medicamento: dpi\n",
            "Digite o preço: 20\n",
            "Digite o nome do medicamento: duwf\n",
            "Digite o preço: 34\n",
            "Digite o nome do medicamento: dsjogh\n",
            "Digite o preço: 56\n",
            "Digite o nome do medicamento: gsdouhg\n",
            "Digite o preço: 6\n",
            "Digite o nome do medicamento: dfdjoghs\n",
            "Digite o preço: 78\n",
            "\n",
            "O nome do medicamento mais barato é: gsdouhg\n",
            "O preço é 6.0\n",
            "A média aritmética é: 38.8\n"
          ]
        }
      ]
    }
  ],
  "metadata": {
    "colab": {
      "name": "Olá, este é o Colaboratory",
      "toc_visible": true,
      "provenance": [],
      "include_colab_link": true
    },
    "kernelspec": {
      "display_name": "Python 3",
      "name": "python3"
    }
  },
  "nbformat": 4,
  "nbformat_minor": 0
}